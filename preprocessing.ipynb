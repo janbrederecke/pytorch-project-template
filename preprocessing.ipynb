{
 "cells": [
  {
   "cell_type": "code",
   "execution_count": null,
   "id": "f11e1f70",
   "metadata": {},
   "outputs": [],
   "source": [
    "import pandas as pd\n",
    "import os\n",
    "import numpy as np\n",
    "from configs.config import config\n",
    "from sklearn.model_selection import StratifiedGroupKFold"
   ]
  },
  {
   "cell_type": "code",
   "execution_count": null,
   "id": "628c6ede",
   "metadata": {},
   "outputs": [],
   "source": [
    "metadata_tdcsfog = pd.read_csv(config.metadata_tdcsfog)\n",
    "metadata_tdcsfog[\"fold\"] = None\n",
    "metadata_defog = pd.read_csv(config.metadata_defog)\n",
    "metadata_defog[\"fold\"] = None\n",
    "\n",
    "sgkf = StratifiedGroupKFold(n_splits=5, random_state=42, shuffle=True)\n",
    "\n",
    "# tdcsfog\n",
    "for i, (train_index, valid_index) in enumerate(\n",
    "    sgkf.split(\n",
    "        X=metadata_tdcsfog[\"Id\"],\n",
    "        y=[1] * len(metadata_tdcsfog),\n",
    "        groups=metadata_tdcsfog[\"Subject\"],\n",
    "    )\n",
    "):\n",
    "\n",
    "    metadata_tdcsfog.loc[valid_index, \"fold\"] = i\n",
    "\n",
    "metadata_tdcsfog[\"fpath\"] = [f\"{config.train_dir_tdcsfog}{_id}.csv\" for _id in metadata_tdcsfog[\"Id\"]]\n",
    "\n",
    "# defog\n",
    "# Remove entries with no events first\n",
    "metadata_defog[\"n1_sum\"] = 0\n",
    "metadata_defog[\"n2_sum\"] = 0\n",
    "metadata_defog[\"n3_sum\"] = 0\n",
    "metadata_defog[\"count\"] = 0\n",
    "\n",
    "for f in metadata_defog[\"Id\"]:\n",
    "    fpath = f\"{config.train_dir_defog}{f}.csv\"\n",
    "    if not os.path.exists(fpath):\n",
    "        continue\n",
    "\n",
    "    df = pd.read_csv(fpath)\n",
    "    metadata_defog.loc[metadata_defog[\"Id\"] == f, \"n1_sum\"] = np.sum(df[\"StartHesitation\"])\n",
    "    metadata_defog.loc[metadata_defog[\"Id\"] == f, \"n2_sum\"] = np.sum(df[\"Turn\"])\n",
    "    metadata_defog.loc[metadata_defog[\"Id\"] == f, \"n3_sum\"] = np.sum(df[\"Walking\"])\n",
    "    metadata_defog.loc[metadata_defog[\"Id\"] == f, \"count\"] = len(df)\n",
    "\n",
    "metadata_defog = metadata_defog[metadata_defog[\"count\"] > 0].reset_index()\n",
    "\n",
    "for i, (train_index, valid_index) in enumerate(\n",
    "    sgkf.split(\n",
    "        X=metadata_defog[\"Id\"],\n",
    "        y=[1] * len(metadata_defog),\n",
    "        groups=metadata_defog[\"Subject\"],\n",
    "    )\n",
    "):\n",
    "\n",
    "    metadata_defog.loc[valid_index, \"fold\"] = i\n",
    "\n",
    "\n",
    "metadata_defog[\"fpath\"] = [f\"{config.train_dir_defog}{_id}.csv\" for _id in metadata_defog[\"Id\"]]\n",
    "\n",
    "metadata_tdcsfog[\"type\"] = \"tdcs\"\n",
    "metadata_defog[\"type\"] = \"defog\"\n",
    "\n",
    "metadata = pd.concat([metadata_defog[[\"fpath\", \"type\", \"fold\"]], metadata_tdcsfog[[\"fpath\", \"type\", \"fold\"]]], ignore_index=True)"
   ]
  },
  {
   "cell_type": "code",
   "execution_count": null,
   "id": "0eb481e4",
   "metadata": {},
   "outputs": [],
   "source": [
    "metadata.head()"
   ]
  },
  {
   "cell_type": "code",
   "execution_count": null,
   "id": "d0be5e54",
   "metadata": {},
   "outputs": [],
   "source": [
    "if not os.path.exists(\"data/preprocessed\"):\n",
    "    os.mkdir(\"data/preprocessed\")\n",
    "metadata.to_csv(\"data/preprocessed/metadata.csv\", index=False)"
   ]
  }
 ],
 "metadata": {
  "kernelspec": {
   "display_name": "Python 3",
   "language": "python",
   "name": "python3"
  },
  "language_info": {
   "name": "python",
   "version": "3.10.12"
  }
 },
 "nbformat": 4,
 "nbformat_minor": 5
}
